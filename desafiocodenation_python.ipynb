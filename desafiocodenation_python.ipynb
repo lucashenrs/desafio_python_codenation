{
 "cells": [
  {
   "cell_type": "code",
   "execution_count": 1,
   "metadata": {},
   "outputs": [],
   "source": [
    "import os\n",
    "import requests\n",
    "import json\n",
    "import string\n",
    "import hashlib"
   ]
  },
  {
   "cell_type": "code",
   "execution_count": 2,
   "metadata": {},
   "outputs": [],
   "source": [
    "#Disponibilizados no desafio CodeNation\n",
    "link_api = 'https://api.codenation.dev/v1/challenge/dev-ps/generate-data?token='\n",
    "token = 'MEUTOKEN'"
   ]
  },
  {
   "cell_type": "code",
   "execution_count": 3,
   "metadata": {},
   "outputs": [
    {
     "data": {
      "text/plain": [
       "'{\"numero_casas\":1,\"token\":\"MEUTOKEN\",\"cifrado\":\"xifo efcvhhjoh, opwjdft jotfsu dpssfdujwf dpef; fyqfsut sfnpwf efgfdujwf dpef. sjdibse qbuujt\",\"decifrado\":\"\",\"resumo_criptografico\":\"\"}\\n'"
      ]
     },
     "execution_count": 3,
     "metadata": {},
     "output_type": "execute_result"
    }
   ],
   "source": [
    "r = requests.get(link_api+token)\n",
    "r.text"
   ]
  },
  {
   "cell_type": "code",
   "execution_count": 4,
   "metadata": {},
   "outputs": [],
   "source": [
    "content = json.loads(r.text)\n",
    "with open('answer.json', 'w+', encoding='utf8') as open_file:\n",
    "    json.dump(content, open_file)\n",
    "\n",
    "with open('answer.json', 'r', encoding='utf8') as open_file:    \n",
    "    data = json.loads(open_file.read())"
   ]
  },
  {
   "cell_type": "code",
   "execution_count": 5,
   "metadata": {},
   "outputs": [
    {
     "name": "stdout",
     "output_type": "stream",
     "text": [
      "dict_keys(['numero_casas', 'token', 'cifrado', 'decifrado', 'resumo_criptografico'])\n"
     ]
    }
   ],
   "source": [
    "print(data.keys())"
   ]
  },
  {
   "cell_type": "raw",
   "metadata": {},
   "source": [
    "### Algoritmo de César para descriptografar a mensagem recebida"
   ]
  },
  {
   "cell_type": "code",
   "execution_count": 6,
   "metadata": {},
   "outputs": [
    {
     "name": "stdout",
     "output_type": "stream",
     "text": [
      "abcdefghijklmnopqrstuvwxyz\n"
     ]
    }
   ],
   "source": [
    "#Alfabeto em letra minúscula com libery string\n",
    "alfabeto = string.ascii_lowercase\n",
    "print(alfabeto)"
   ]
  },
  {
   "cell_type": "code",
   "execution_count": 7,
   "metadata": {},
   "outputs": [
    {
     "name": "stdout",
     "output_type": "stream",
     "text": [
      "xifo efcvhhjoh, opwjdft jotfsu dpssfdujwf dpef; fyqfsut sfnpwf efgfdujwf dpef. sjdibse qbuujt\n"
     ]
    }
   ],
   "source": [
    "#extraindo a mensagem criptografada/codificada\n",
    "mensagem_cod = data['cifrado']\n",
    "print(mensagem_cod)"
   ]
  },
  {
   "cell_type": "code",
   "execution_count": 8,
   "metadata": {},
   "outputs": [
    {
     "name": "stdout",
     "output_type": "stream",
     "text": [
      "1\n"
     ]
    }
   ],
   "source": [
    "#extraindo numero de casas para utilizar no algoritmo\n",
    "num_casas = data['numero_casas']\n",
    "print(num_casas)"
   ]
  },
  {
   "cell_type": "code",
   "execution_count": 9,
   "metadata": {},
   "outputs": [
    {
     "name": "stdout",
     "output_type": "stream",
     "text": [
      "when debugging, novices insert corrective code; experts remove defective code. richard pattis\n"
     ]
    }
   ],
   "source": [
    "#Decodificando com o algoritmo de César\n",
    "texto_decifrado = ''\n",
    "for letra in mensagem_cod:\n",
    "    if letra in alfabeto: #se a letra estiver no alfabeto\n",
    "        posicao= alfabeto.find(letra)\n",
    "        posicao= (posicao - num_casas) % 26\n",
    "        texto_decifrado = texto_decifrado + alfabeto[posicao]\n",
    "    else:\n",
    "        texto_decifrado = texto_decifrado + letra #se nao estiver (for um ponto ou espaço), permanece o mesmo. \n",
    "print(texto_decifrado)"
   ]
  },
  {
   "cell_type": "code",
   "execution_count": 10,
   "metadata": {},
   "outputs": [
    {
     "name": "stdout",
     "output_type": "stream",
     "text": [
      "{'numero_casas': 1, 'token': 'MEUTOKEN', 'cifrado': 'xifo efcvhhjoh, opwjdft jotfsu dpssfdujwf dpef; fyqfsut sfnpwf efgfdujwf dpef. sjdibse qbuujt', 'decifrado': '', 'resumo_criptografico': ''}\n"
     ]
    }
   ],
   "source": [
    "with open('answer.json', 'r', encoding='utf8') as open_file:\n",
    "    newdata = json.load(open_file)\n",
    "\n",
    "print(newdata)"
   ]
  },
  {
   "cell_type": "code",
   "execution_count": 11,
   "metadata": {},
   "outputs": [
    {
     "name": "stdout",
     "output_type": "stream",
     "text": [
      "when debugging, novices insert corrective code; experts remove defective code. richard pattis\n"
     ]
    }
   ],
   "source": [
    "newdata['decifrado'] = texto_decifrado\n",
    "print(newdata['decifrado'])\n"
   ]
  },
  {
   "cell_type": "code",
   "execution_count": 12,
   "metadata": {},
   "outputs": [
    {
     "name": "stdout",
     "output_type": "stream",
     "text": [
      "{'numero_casas': 1, 'token': 'MEUTOKEN', 'cifrado': 'xifo efcvhhjoh, opwjdft jotfsu dpssfdujwf dpef; fyqfsut sfnpwf efgfdujwf dpef. sjdibse qbuujt', 'decifrado': 'when debugging, novices insert corrective code; experts remove defective code. richard pattis', 'resumo_criptografico': 'fc6f03bf21b004334c5b5c8e6198de1cd1fc7915'}\n"
     ]
    }
   ],
   "source": [
    "## Gerando um resumo criptográfico do texto decifrado usando o algoritmo sha1 da library hashlib\n",
    "\n",
    "resumo_criptografico = hashlib.sha1(texto_decifrado.encode())\n",
    "resumo_criptografico = resumo_criptografico.hexdigest()\n",
    "newdata['resumo_criptografico'] = resumo_criptografico\n",
    "print(newdata)"
   ]
  },
  {
   "cell_type": "code",
   "execution_count": 13,
   "metadata": {},
   "outputs": [],
   "source": [
    "with open('answer.json', 'w', encoding='utf8') as open_file:\n",
    "    json.dump(newdata, open_file)"
   ]
  },
  {
   "cell_type": "code",
   "execution_count": 14,
   "metadata": {},
   "outputs": [
    {
     "name": "stdout",
     "output_type": "stream",
     "text": [
      "https://api.codenation.dev/v1/challenge/dev-ps/submit-solution?token=MEUTOKEN\n"
     ]
    }
   ],
   "source": [
    "#API disponibilizada para POST\n",
    "url_resposta = 'https://api.codenation.dev/v1/challenge/dev-ps/submit-solution?token='+token\n",
    "print(url_resposta)"
   ]
  },
  {
   "cell_type": "code",
   "execution_count": 15,
   "metadata": {},
   "outputs": [
    {
     "name": "stdout",
     "output_type": "stream",
     "text": [
      "{\"score\":100}\n",
      "\n"
     ]
    }
   ],
   "source": [
    "files = dict(answer = open('answer.json', 'rb'))\n",
    "r = requests.post(url_resposta, files=files)\n",
    "resultado = r.text\n",
    "print(resultado)"
   ]
  }
 ],
 "metadata": {
  "kernelspec": {
   "display_name": "Python 3",
   "language": "python",
   "name": "python3"
  },
  "language_info": {
   "codemirror_mode": {
    "name": "ipython",
    "version": 3
   },
   "file_extension": ".py",
   "mimetype": "text/x-python",
   "name": "python",
   "nbconvert_exporter": "python",
   "pygments_lexer": "ipython3",
   "version": "3.7.3"
  }
 },
 "nbformat": 4,
 "nbformat_minor": 4
}
